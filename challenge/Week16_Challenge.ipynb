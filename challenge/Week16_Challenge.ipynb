{
  "nbformat": 4,
  "nbformat_minor": 0,
  "metadata": {
    "colab": {
      "name": "Week16_Challenge.ipynb",
      "provenance": [],
      "collapsed_sections": []
    },
    "kernelspec": {
      "name": "python3",
      "display_name": "Python 3"
    }
  },
  "cells": [
    {
      "cell_type": "code",
      "metadata": {
        "id": "7dNSb6W5GRz5",
        "colab_type": "code",
        "colab": {}
      },
      "source": [
        "# Install Java, Spark, and Findspark\n",
        "!apt-get install openjdk-8-jdk-headless -qq > /dev/null\n",
        "!wget -q http://www-us.apache.org/dist/spark/spark-2.4.5/spark-2.4.5-bin-hadoop2.7.tgz\n",
        "!tar xf spark-2.4.5-bin-hadoop2.7.tgz\n",
        "!pip install -q findspark\n",
        "\n",
        "# Set Environment Variables\n",
        "import os\n",
        "os.environ[\"JAVA_HOME\"] = \"/usr/lib/jvm/java-8-openjdk-amd64\"\n",
        "os.environ[\"SPARK_HOME\"] = \"/content/spark-2.4.5-bin-hadoop2.7\"\n",
        "\n",
        "# Start a SparkSession\n",
        "import findspark\n",
        "findspark.init()"
      ],
      "execution_count": 1,
      "outputs": []
    },
    {
      "cell_type": "code",
      "metadata": {
        "id": "3r-3VUg7GUtn",
        "colab_type": "code",
        "colab": {
          "base_uri": "https://localhost:8080/",
          "height": 208
        },
        "outputId": "01b131e1-c211-4fdb-8fad-46a3b802588b"
      },
      "source": [
        "# Start Spark session\n",
        "!wget https://jdbc.postgresql.org/download/postgresql-42.2.9.jar\n",
        "from pyspark.sql import SparkSession\n",
        "spark = SparkSession.builder.appName(\"Week16Challenge\").config(\"spark.driver.extraClassPath\",\"/content/postgresql-42.2.9.jar\").getOrCreate()"
      ],
      "execution_count": 2,
      "outputs": [
        {
          "output_type": "stream",
          "text": [
            "--2020-06-29 03:21:29--  https://jdbc.postgresql.org/download/postgresql-42.2.9.jar\n",
            "Resolving jdbc.postgresql.org (jdbc.postgresql.org)... 72.32.157.228, 2001:4800:3e1:1::228\n",
            "Connecting to jdbc.postgresql.org (jdbc.postgresql.org)|72.32.157.228|:443... connected.\n",
            "HTTP request sent, awaiting response... 200 OK\n",
            "Length: 914037 (893K) [application/java-archive]\n",
            "Saving to: ‘postgresql-42.2.9.jar.4’\n",
            "\n",
            "postgresql-42.2.9.j 100%[===================>] 892.61K  1.04MB/s    in 0.8s    \n",
            "\n",
            "2020-06-29 03:21:30 (1.04 MB/s) - ‘postgresql-42.2.9.jar.4’ saved [914037/914037]\n",
            "\n"
          ],
          "name": "stdout"
        }
      ]
    },
    {
      "cell_type": "code",
      "metadata": {
        "id": "5szzlYotGWzD",
        "colab_type": "code",
        "colab": {}
      },
      "source": [
        "# Read in data from S3 Buckets\n",
        "from pyspark import SparkFiles\n",
        "url = \"https://s3.amazonaws.com/amazon-reviews-pds/tsv/amazon_reviews_us_Video_Games_v1_00.tsv.gz\"\n",
        "\n",
        "spark.sparkContext.addFile(url)\n",
        "filename = \"amazon_reviews_us_Video_Games_v1_00.tsv.gz\"\n",
        "df = spark.read.option(\"encoding\",\"UTF-8\").csv(SparkFiles.get(filename), sep=\"\\t\", header=True)"
      ],
      "execution_count": 3,
      "outputs": []
    },
    {
      "cell_type": "code",
      "metadata": {
        "id": "g_2JePoMw0vA",
        "colab_type": "code",
        "colab": {
          "base_uri": "https://localhost:8080/",
          "height": 34
        },
        "outputId": "457b1744-819c-46f7-852d-1525e53e0646"
      },
      "source": [
        "df_count = df.count()\n",
        "df_count"
      ],
      "execution_count": 4,
      "outputs": [
        {
          "output_type": "execute_result",
          "data": {
            "text/plain": [
              "1785997"
            ]
          },
          "metadata": {
            "tags": []
          },
          "execution_count": 4
        }
      ]
    },
    {
      "cell_type": "code",
      "metadata": {
        "id": "RMFNX-elw2mJ",
        "colab_type": "code",
        "colab": {
          "base_uri": "https://localhost:8080/",
          "height": 489
        },
        "outputId": "4b21fa2c-0e30-4183-cfb0-c58c42e32483"
      },
      "source": [
        "# Show DataFrame\n",
        "df.show()"
      ],
      "execution_count": 5,
      "outputs": [
        {
          "output_type": "stream",
          "text": [
            "+-----------+-----------+--------------+----------+--------------+--------------------+----------------+-----------+-------------+-----------+----+-----------------+--------------------+--------------------+-----------+\n",
            "|marketplace|customer_id|     review_id|product_id|product_parent|       product_title|product_category|star_rating|helpful_votes|total_votes|vine|verified_purchase|     review_headline|         review_body|review_date|\n",
            "+-----------+-----------+--------------+----------+--------------+--------------------+----------------+-----------+-------------+-----------+----+-----------------+--------------------+--------------------+-----------+\n",
            "|         US|   12039526| RTIS3L2M1F5SM|B001CXYMFS|     737716809|Thrustmaster T-Fl...|     Video Games|          5|            0|          0|   N|                Y|an amazing joysti...|Used this for Eli...| 2015-08-31|\n",
            "|         US|    9636577| R1ZV7R40OLHKD|B00M920ND6|     569686175|Tonsee 6 buttons ...|     Video Games|          5|            0|          0|   N|                Y|Definitely a sile...|Loved it,  I didn...| 2015-08-31|\n",
            "|         US|    2331478|R3BH071QLH8QMC|B0029CSOD2|      98937668|Hidden Mysteries:...|     Video Games|          1|            0|          1|   N|                Y|            One Star|poor quality work...| 2015-08-31|\n",
            "|         US|   52495923|R127K9NTSXA2YH|B00GOOSV98|      23143350|GelTabz Performan...|     Video Games|          3|            0|          0|   N|                Y|good, but could b...|nice, but tend to...| 2015-08-31|\n",
            "|         US|   14533949|R32ZWUXDJPW27Q|B00Y074JOM|     821342511|Zero Suit Samus a...|     Video Games|          4|            0|          0|   N|                Y|   Great but flawed.|Great amiibo, gre...| 2015-08-31|\n",
            "|         US|    2377552|R3AQQ4YUKJWBA6|B002UBI6W6|     328764615|Psyclone Recharge...|     Video Games|          1|            0|          0|   N|                Y|            One Star|The remote consta...| 2015-08-31|\n",
            "|         US|   17521011|R2F0POU5K6F73F|B008XHCLFO|      24234603|Protection for yo...|     Video Games|          5|            0|          0|   N|                Y|              A Must|I have a 2012-201...| 2015-08-31|\n",
            "|         US|   19676307|R3VNR804HYSMR6|B00BRA9R6A|     682267517|   Nerf 3DS XL Armor|     Video Games|          5|            0|          0|   N|                Y|          Five Stars|Perfect, kids lov...| 2015-08-31|\n",
            "|         US|     224068| R3GZTM72WA2QH|B009EPWJLA|     435241890|One Piece: Pirate...|     Video Games|          5|            0|          0|   N|                Y|          Five Stars|            Excelent| 2015-08-31|\n",
            "|         US|   48467989| RNQOY62705W1K|B0000AV7GB|     256572651|Playstation 2 Dan...|     Video Games|          4|            0|          0|   N|                Y|          Four Stars|Slippery but expe...| 2015-08-31|\n",
            "|         US|     106569|R1VTIA3JTYBY02|B00008KTNN|     384411423|Metal Arms: Glitc...|     Video Games|          5|            0|          0|   N|                N|          Five Stars|Love the game. Se...| 2015-08-31|\n",
            "|         US|   48269642|R29DOU8791QZL8|B000A3IA0Y|     472622859|72 Pin Connector ...|     Video Games|          1|            0|          0|   N|                Y| Game will get stuck|Does not fit prop...| 2015-08-31|\n",
            "|         US|   52738710|R15DUT1VIJ9RJZ|B0053BQN34|     577628462|uDraw Gametablet ...|     Video Games|          2|            0|          0|   N|                Y|We have tried it ...|This was way too ...| 2015-08-31|\n",
            "|         US|   10556786|R3IMF2MQ3OU9ZM|B002I0HIMI|     988218515|NBA 2K12(Covers M...|     Video Games|          4|            0|          0|   N|                Y|          Four Stars|Works great good ...| 2015-08-31|\n",
            "|         US|    2963837|R23H79DHOZTYAU|B0081EH12M|     770100932|New Trigger Grips...|     Video Games|          1|            1|          1|   N|                Y|Now i have to buy...|It did not fit th...| 2015-08-31|\n",
            "|         US|   23092109| RIV24EQAIXA4O|B005FMLZQQ|      24647669|Xbox 360 Media Re...|     Video Games|          5|            0|          0|   N|                Y|          Five Stars|perfect lightweig...| 2015-08-31|\n",
            "|         US|   23091728|R3UCNGYDVN24YB|B002BSA388|      33706205|Super Mario Galaxy 2|     Video Games|          5|            0|          0|   N|                Y|          Five Stars|               great| 2015-08-31|\n",
            "|         US|   10712640| RUL4H4XTTN2DY|B00BUSLSAC|     829667834|Nintendo 3DS XL -...|     Video Games|          5|            0|          0|   N|                Y|          Five Stars|Works beautifully...| 2015-08-31|\n",
            "|         US|   17455376|R20JF7Z4DHTNX5|B00KWF38AW|     110680188|Captain Toad:  Tr...|     Video Games|          5|            0|          0|   N|                Y|          Five Stars|Kids loved the ga...| 2015-08-31|\n",
            "|         US|   14754850|R2T1AJ5MFI2260|B00BRQJYA8|     616463426|Lego Batman 2: DC...|     Video Games|          4|            0|          0|   N|                Y|          Four Stars|           Goodngame| 2015-08-31|\n",
            "+-----------+-----------+--------------+----------+--------------+--------------------+----------------+-----------+-------------+-----------+----+-----------------+--------------------+--------------------+-----------+\n",
            "only showing top 20 rows\n",
            "\n"
          ],
          "name": "stdout"
        }
      ]
    },
    {
      "cell_type": "code",
      "metadata": {
        "id": "mgSeB0WSz3QU",
        "colab_type": "code",
        "colab": {
          "base_uri": "https://localhost:8080/",
          "height": 486
        },
        "outputId": "072c9f46-1d66-49a1-acd7-e6c57ef84069"
      },
      "source": [
        "products_df = df.select(\"product_id\", \"product_title\").distinct()\n",
        "products_df.show()\n",
        "products_df.count()"
      ],
      "execution_count": 23,
      "outputs": [
        {
          "output_type": "stream",
          "text": [
            "+----------+--------------------+\n",
            "|product_id|       product_title|\n",
            "+----------+--------------------+\n",
            "|B00CJ7IUI6|The Elder Scrolls...|\n",
            "|B00DHF39KS|Wolfenstein: The ...|\n",
            "|B00MUTAVH6|Under Night In-Bi...|\n",
            "|B001AZSEUW|              Peggle|\n",
            "|B00KVOVBGM|PlayStation 4 Con...|\n",
            "|B00O9VGH4Y|USPRO&reg; Headph...|\n",
            "|B004OQNZY4|Phineas and Ferb:...|\n",
            "|B00ZLN980O|Donop seablue 2.4...|\n",
            "|B002L8W5V6|Dotop Nintendo Ga...|\n",
            "|B007AJZ5PY|Nyko Game Case fo...|\n",
            "|B000AOEU2K|Fire Emblem: Path...|\n",
            "|B000H8BW7U|Tanarus (PC) (Com...|\n",
            "|B013RADQOQ|Susenstone® 2400D...|\n",
            "|B00KQXKUJ2|FIFA 15 (Ultimate...|\n",
            "|B006W41X2C|Turtle Beach - Ea...|\n",
            "|B000KCX9M4|Grand Theft Auto:...|\n",
            "|B00YT90JWC|Red Wii Mini Cons...|\n",
            "|B0096KG6A8|Wii U Super Mario...|\n",
            "|B00L6AVLB0|World of Tanks-X3...|\n",
            "|B000IMYKQ0|Wii Nunchuk Contr...|\n",
            "+----------+--------------------+\n",
            "only showing top 20 rows\n",
            "\n"
          ],
          "name": "stdout"
        },
        {
          "output_type": "execute_result",
          "data": {
            "text/plain": [
              "65792"
            ]
          },
          "metadata": {
            "tags": []
          },
          "execution_count": 23
        }
      ]
    },
    {
      "cell_type": "code",
      "metadata": {
        "id": "vd9vK3t80iAC",
        "colab_type": "code",
        "colab": {
          "base_uri": "https://localhost:8080/",
          "height": 486
        },
        "outputId": "8f6e7a41-a86f-48da-9d1d-808f8f247253"
      },
      "source": [
        "from pyspark.sql.types import IntegerType\n",
        "from pyspark.sql.functions import unix_timestamp\n",
        "from pyspark.sql.functions import from_unixtime\n",
        "\n",
        "review_df = df.select(\"review_id\", \"customer_id\", \"product_id\", \"product_parent\", \"review_date\").distinct()\n",
        "review_df = review_df.withColumn(\"customer_id\", review_df[\"customer_id\"].cast(IntegerType()))\n",
        "review_df = review_df.withColumn(\"product_parent\", review_df[\"product_parent\"].cast(IntegerType()))\n",
        "review_df = review_df.withColumn(\"review_date\", from_unixtime(unix_timestamp('review_date', 'YYYY-MM-dd')).cast(\"timestamp\"))\n",
        "\n",
        "review_df.show()\n",
        "review_df.count()"
      ],
      "execution_count": 51,
      "outputs": [
        {
          "output_type": "stream",
          "text": [
            "+--------------+-----------+----------+--------------+-------------------+\n",
            "|     review_id|customer_id|product_id|product_parent|        review_date|\n",
            "+--------------+-----------+----------+--------------+-------------------+\n",
            "|R25HN3SIQZIUWF|   19145185|B00MV7KVP4|      92208606|2014-12-28 00:00:00|\n",
            "|R1DB0RXBWJTSZA|   17033222|B00BU3ZLJQ|     860676261|2014-12-28 00:00:00|\n",
            "|R17XE0M8S59SQ8|   10589108|B000069TDF|      13629273|2014-12-28 00:00:00|\n",
            "|R1MK4ENBTCKHCG|    2498811|B00VETEZ34|      53980133|2014-12-28 00:00:00|\n",
            "|R3VC0HCN87EN7F|   22788662|B00ZSJUTCM|     838780144|2014-12-28 00:00:00|\n",
            "|R1TEKXJZIWTFNF|   44777724|B00MV7KVP4|      92208606|2014-12-28 00:00:00|\n",
            "|R3J78BD5M97ZHB|   25766524|B00EZV6HHU|     899419151|2014-12-28 00:00:00|\n",
            "|R140YF99L4RFAI|   30351861|B000P46NMK|     482320488|2014-12-28 00:00:00|\n",
            "|R3NLEZBP3TUUGZ|   49915281|B00KM66UFQ|     703572787|2014-12-28 00:00:00|\n",
            "| RRK4AUSOSHZD6|    3887193|B00KVP78FE|     177244653|2014-12-28 00:00:00|\n",
            "|R2VRSUZ3YSEU2X|   33553576|B00OM6SAK0|      47086315|2014-12-28 00:00:00|\n",
            "|R22UAQR1AFO4QR|   41708426|B009S4JTTC|     756644566|2014-12-28 00:00:00|\n",
            "|R24CQV03AFC7RR|   38441441|B004XV6ST4|     574050753|2014-12-28 00:00:00|\n",
            "| RLS53YYUMOI9L|   39946785|B00BLH4WLY|     339867013|2014-12-28 00:00:00|\n",
            "|R1I92X0X1AQKOT|   12896347|B00CH9253W|     430662425|2014-12-28 00:00:00|\n",
            "|R1Q39PZKZX6PA3|    1679199|B00006M3R6|     355273836|2014-12-28 00:00:00|\n",
            "|  RROL0GXQ45KA|    1582582|B00PRG93O6|      76733241|2014-12-28 00:00:00|\n",
            "|R31EFAUXIPT674|   10697390|B003ZSN600|     587411522|2014-12-28 00:00:00|\n",
            "|R2RBSW2CBQRF4P|    9699571|B00IODWOQS|     534825767|2014-12-28 00:00:00|\n",
            "|R3KHNPWA0Q8WUV|     539921|B00W435C0Y|     406569386|2014-12-28 00:00:00|\n",
            "+--------------+-----------+----------+--------------+-------------------+\n",
            "only showing top 20 rows\n",
            "\n"
          ],
          "name": "stdout"
        },
        {
          "output_type": "execute_result",
          "data": {
            "text/plain": [
              "1785997"
            ]
          },
          "metadata": {
            "tags": []
          },
          "execution_count": 51
        }
      ]
    },
    {
      "cell_type": "code",
      "metadata": {
        "id": "UtI1UYFz1J2M",
        "colab_type": "code",
        "colab": {
          "base_uri": "https://localhost:8080/",
          "height": 486
        },
        "outputId": "14b6d673-4510-4089-f563-fbf24f563603"
      },
      "source": [
        "vine_df = df.select(\"review_id\", \"star_rating\", \"helpful_votes\", \"total_votes\", \"vine\").distinct()\n",
        "vine_df = vine_df.withColumn(\"star_rating\", vine_df[\"star_rating\"].cast(IntegerType()))\n",
        "vine_df = vine_df.withColumn(\"helpful_votes\", vine_df[\"helpful_votes\"].cast(IntegerType()))\n",
        "vine_df = vine_df.withColumn(\"total_votes\", vine_df[\"total_votes\"].cast(IntegerType()))\n",
        "vine_df.show()\n",
        "vine_df.count()"
      ],
      "execution_count": 54,
      "outputs": [
        {
          "output_type": "stream",
          "text": [
            "+--------------+-----------+-------------+-----------+----+\n",
            "|     review_id|star_rating|helpful_votes|total_votes|vine|\n",
            "+--------------+-----------+-------------+-----------+----+\n",
            "|R2MTHHQM6RSDQK|          4|            0|          1|   N|\n",
            "|R26I4OP3M9BC2K|          5|            0|          0|   N|\n",
            "|R2P5HQ648QPWVG|          5|            0|          0|   N|\n",
            "|R293SZSOOV2DMC|          5|            0|          0|   N|\n",
            "|R3793DQNKX2INH|          5|            0|          0|   N|\n",
            "|R1IFTWQW79OCWE|          5|            0|          0|   N|\n",
            "|R11K7B8ZVWT5J2|          5|            0|          0|   N|\n",
            "|R1LE118TIRBPKA|          5|            0|          1|   N|\n",
            "| RB9GZU9BZNUEM|          5|            0|          0|   N|\n",
            "|R2RO1I6G4TOSYD|          4|            0|          1|   N|\n",
            "| RXRUAMUV19IY8|          1|            0|          0|   N|\n",
            "|R2F84MTDEMY5E3|          5|            0|          0|   N|\n",
            "|R18XB0G8PFU91B|          1|            3|          7|   N|\n",
            "|R3FVPRCTKXBJO0|          5|            0|          0|   N|\n",
            "| RYSQEKBAX53CI|          5|            0|          0|   N|\n",
            "| R8OABF65VLWD6|          4|            0|          0|   N|\n",
            "|R30Z2EOSZIOVWX|          5|            0|          0|   N|\n",
            "|R359X07WO7SPFJ|          4|            0|          0|   N|\n",
            "|R3GQO5P5ILYMIH|          3|            0|          0|   N|\n",
            "|R3GNFVC2S2QESO|          5|            0|          0|   N|\n",
            "+--------------+-----------+-------------+-----------+----+\n",
            "only showing top 20 rows\n",
            "\n"
          ],
          "name": "stdout"
        },
        {
          "output_type": "execute_result",
          "data": {
            "text/plain": [
              "1785997"
            ]
          },
          "metadata": {
            "tags": []
          },
          "execution_count": 54
        }
      ]
    },
    {
      "cell_type": "code",
      "metadata": {
        "id": "VQvnfWfZ0Lix",
        "colab_type": "code",
        "colab": {
          "base_uri": "https://localhost:8080/",
          "height": 469
        },
        "outputId": "11d03e7b-4f9e-4b31-d83e-bbdfa85fe366"
      },
      "source": [
        "from pyspark.sql.functions import countDistinct\n",
        "customers_df = df.select(\"customer_id\").distinct()\n",
        "customers_df = df.groupBy(\"customer_id\").agg(countDistinct(\"customer_id\"))\n",
        "customers_df = customers_df.withColumnRenamed(\"count(DISTINCT customer_id)\", \"customer_count\")\n",
        "customers_df = customers_df.withColumn(\"customer_id\", customers_df[\"customer_id\"].cast(IntegerType()))\n",
        "customers_df.show()"
      ],
      "execution_count": 57,
      "outputs": [
        {
          "output_type": "stream",
          "text": [
            "+-----------+--------------+\n",
            "|customer_id|customer_count|\n",
            "+-----------+--------------+\n",
            "|     669612|             1|\n",
            "|     706239|             1|\n",
            "|    2042590|             1|\n",
            "|   37372816|             1|\n",
            "|   26691950|             1|\n",
            "|   22429746|             1|\n",
            "|    9748608|             1|\n",
            "|   18699756|             1|\n",
            "|   12052612|             1|\n",
            "|     624822|             1|\n",
            "|   11599387|             1|\n",
            "|   45477156|             1|\n",
            "|     670025|             1|\n",
            "|   35965063|             1|\n",
            "|   45871365|             1|\n",
            "|   20595499|             1|\n",
            "|   19359440|             1|\n",
            "|   12002337|             1|\n",
            "|   43534753|             1|\n",
            "|     433865|             1|\n",
            "+-----------+--------------+\n",
            "only showing top 20 rows\n",
            "\n"
          ],
          "name": "stdout"
        }
      ]
    },
    {
      "cell_type": "code",
      "metadata": {
        "id": "k_vHy5m-SFpB",
        "colab_type": "code",
        "colab": {
          "base_uri": "https://localhost:8080/",
          "height": 34
        },
        "outputId": "dc4a320a-3b83-4e93-95e7-95b584c24535"
      },
      "source": [
        "customers_df.count()"
      ],
      "execution_count": 37,
      "outputs": [
        {
          "output_type": "execute_result",
          "data": {
            "text/plain": [
              "1045733"
            ]
          },
          "metadata": {
            "tags": []
          },
          "execution_count": 37
        }
      ]
    },
    {
      "cell_type": "code",
      "metadata": {
        "id": "poU95xJeReoM",
        "colab_type": "code",
        "colab": {}
      },
      "source": [
        "mode = \"append\"\n",
        "end_point = \"berkeley-data-db-2.cuctescucrhh.us-east-2.rds.amazonaws.com\"\n",
        "db_name = \"postgres\"\n",
        "jdbc_url=\"jdbc:postgresql://\" + end_point + \":5432/\" + db_name\n",
        "config = {\"user\":\"postgres\", \n",
        "          \"password\": \"Pavelkoo1984\", \n",
        "          \"driver\":\"org.postgresql.Driver\"}"
      ],
      "execution_count": 30,
      "outputs": []
    },
    {
      "cell_type": "code",
      "metadata": {
        "id": "X4JI--JeN4Ac",
        "colab_type": "code",
        "colab": {}
      },
      "source": [
        "products_df.write.jdbc(url=jdbc_url, table='products', mode=mode, properties=config)"
      ],
      "execution_count": 31,
      "outputs": []
    },
    {
      "cell_type": "code",
      "metadata": {
        "id": "fNhGIHu-zKxl",
        "colab_type": "code",
        "colab": {}
      },
      "source": [
        "review_df.write.jdbc(url=jdbc_url, table='review_id_table', mode=mode, properties=config)"
      ],
      "execution_count": 52,
      "outputs": []
    },
    {
      "cell_type": "code",
      "metadata": {
        "id": "KLW2YSHIAYxt",
        "colab_type": "code",
        "colab": {}
      },
      "source": [
        "vine_df.write.jdbc(url=jdbc_url, table='vine_table', mode=mode, properties=config)"
      ],
      "execution_count": 55,
      "outputs": []
    },
    {
      "cell_type": "code",
      "metadata": {
        "id": "y-Hmq-KXAZWn",
        "colab_type": "code",
        "colab": {}
      },
      "source": [
        "customers_df.write.jdbc(url=jdbc_url, table='customers', mode=mode, properties=config)"
      ],
      "execution_count": 58,
      "outputs": []
    }
  ]
}
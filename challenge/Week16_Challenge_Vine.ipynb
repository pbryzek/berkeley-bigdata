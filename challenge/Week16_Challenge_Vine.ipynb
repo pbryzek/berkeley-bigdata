{
  "nbformat": 4,
  "nbformat_minor": 0,
  "metadata": {
    "colab": {
      "name": "Week16_Challenge_Vine.ipynb",
      "provenance": [],
      "collapsed_sections": []
    },
    "kernelspec": {
      "name": "python3",
      "display_name": "Python 3"
    }
  },
  "cells": [
    {
      "cell_type": "code",
      "metadata": {
        "id": "Swiodh8rdJal",
        "colab_type": "code",
        "colab": {}
      },
      "source": [
        "# Install Java, Spark, and Findspark\n",
        "!apt-get install openjdk-8-jdk-headless -qq > /dev/null\n",
        "!wget -q http://www-us.apache.org/dist/spark/spark-2.4.5/spark-2.4.5-bin-hadoop2.7.tgz\n",
        "!tar xf spark-2.4.5-bin-hadoop2.7.tgz\n",
        "!pip install -q findspark\n",
        "\n",
        "# Set Environment Variables\n",
        "import os\n",
        "os.environ[\"JAVA_HOME\"] = \"/usr/lib/jvm/java-8-openjdk-amd64\"\n",
        "os.environ[\"SPARK_HOME\"] = \"/content/spark-2.4.5-bin-hadoop2.7\"\n",
        "\n",
        "# Start a SparkSession\n",
        "import findspark\n",
        "findspark.init()"
      ],
      "execution_count": 1,
      "outputs": []
    },
    {
      "cell_type": "code",
      "metadata": {
        "id": "VGsTtDy1dVH2",
        "colab_type": "code",
        "colab": {
          "base_uri": "https://localhost:8080/",
          "height": 208
        },
        "outputId": "02960316-65ca-44a3-cecd-ea99ecd52c56"
      },
      "source": [
        "# Start Spark session\n",
        "!wget https://jdbc.postgresql.org/download/postgresql-42.2.9.jar\n",
        "from pyspark.sql import SparkSession\n",
        "spark = SparkSession.builder.appName(\"Week16ChallengeVine\").config(\"spark.driver.extraClassPath\",\"/content/postgresql-42.2.9.jar\").getOrCreate()"
      ],
      "execution_count": 2,
      "outputs": [
        {
          "output_type": "stream",
          "text": [
            "--2020-06-29 05:03:35--  https://jdbc.postgresql.org/download/postgresql-42.2.9.jar\n",
            "Resolving jdbc.postgresql.org (jdbc.postgresql.org)... 72.32.157.228, 2001:4800:3e1:1::228\n",
            "Connecting to jdbc.postgresql.org (jdbc.postgresql.org)|72.32.157.228|:443... connected.\n",
            "HTTP request sent, awaiting response... 200 OK\n",
            "Length: 914037 (893K) [application/java-archive]\n",
            "Saving to: ‘postgresql-42.2.9.jar’\n",
            "\n",
            "postgresql-42.2.9.j 100%[===================>] 892.61K  3.59MB/s    in 0.2s    \n",
            "\n",
            "2020-06-29 05:03:36 (3.59 MB/s) - ‘postgresql-42.2.9.jar’ saved [914037/914037]\n",
            "\n"
          ],
          "name": "stdout"
        }
      ]
    },
    {
      "cell_type": "code",
      "metadata": {
        "id": "nSn6mB9MddYa",
        "colab_type": "code",
        "colab": {}
      },
      "source": [
        "end_point = \"berkeley-data-db-2.cuctescucrhh.us-east-2.rds.amazonaws.com\"\n",
        "db_name = \"postgres\"\n",
        "jdbc_url=\"jdbc:postgresql://\" + end_point + \":5432/\" + db_name\n",
        "config = {\"user\":\"postgres\", \n",
        "          \"password\": \"Pavelkoo1984\", \n",
        "          \"driver\":\"org.postgresql.Driver\"}"
      ],
      "execution_count": 3,
      "outputs": []
    },
    {
      "cell_type": "code",
      "metadata": {
        "id": "FiShaRDteblS",
        "colab_type": "code",
        "colab": {
          "base_uri": "https://localhost:8080/",
          "height": 278
        },
        "outputId": "d96f04c1-bbc4-4942-a45c-2a0ad813aa86"
      },
      "source": [
        "vine_df=spark.read.jdbc(url=jdbc_url, table='vine_table', properties=config)\n",
        "vine_df.limit(10).show()"
      ],
      "execution_count": 4,
      "outputs": [
        {
          "output_type": "stream",
          "text": [
            "+--------------+-----------+-------------+-----------+----+\n",
            "|     review_id|star_rating|helpful_votes|total_votes|vine|\n",
            "+--------------+-----------+-------------+-----------+----+\n",
            "|R2MTHHQM6RSDQK|          4|            0|          1|   N|\n",
            "|R26I4OP3M9BC2K|          5|            0|          0|   N|\n",
            "|R2P5HQ648QPWVG|          5|            0|          0|   N|\n",
            "|R293SZSOOV2DMC|          5|            0|          0|   N|\n",
            "|R3793DQNKX2INH|          5|            0|          0|   N|\n",
            "|R1IFTWQW79OCWE|          5|            0|          0|   N|\n",
            "|R11K7B8ZVWT5J2|          5|            0|          0|   N|\n",
            "|R1LE118TIRBPKA|          5|            0|          1|   N|\n",
            "| RB9GZU9BZNUEM|          5|            0|          0|   N|\n",
            "|R2RO1I6G4TOSYD|          4|            0|          1|   N|\n",
            "+--------------+-----------+-------------+-----------+----+\n",
            "\n"
          ],
          "name": "stdout"
        }
      ]
    },
    {
      "cell_type": "code",
      "metadata": {
        "id": "cfKobubGhSK_",
        "colab_type": "code",
        "colab": {
          "base_uri": "https://localhost:8080/",
          "height": 34
        },
        "outputId": "634e75e8-67a2-4f02-f01e-06e92f6d1ed0"
      },
      "source": [
        "vine_df.count()"
      ],
      "execution_count": 5,
      "outputs": [
        {
          "output_type": "execute_result",
          "data": {
            "text/plain": [
              "1785997"
            ]
          },
          "metadata": {
            "tags": []
          },
          "execution_count": 5
        }
      ]
    },
    {
      "cell_type": "code",
      "metadata": {
        "id": "UXvf8uhBhYky",
        "colab_type": "code",
        "colab": {
          "base_uri": "https://localhost:8080/",
          "height": 469
        },
        "outputId": "ca42dc9c-fb60-4c16-fdb1-25949484b988"
      },
      "source": [
        "vine_n_df = vine_df.filter(\"vine == 'N'\")\n",
        "vine_n_df.show()"
      ],
      "execution_count": 11,
      "outputs": [
        {
          "output_type": "stream",
          "text": [
            "+--------------+-----------+-------------+-----------+----+\n",
            "|     review_id|star_rating|helpful_votes|total_votes|vine|\n",
            "+--------------+-----------+-------------+-----------+----+\n",
            "|R2MTHHQM6RSDQK|          4|            0|          1|   N|\n",
            "|R26I4OP3M9BC2K|          5|            0|          0|   N|\n",
            "|R2P5HQ648QPWVG|          5|            0|          0|   N|\n",
            "|R293SZSOOV2DMC|          5|            0|          0|   N|\n",
            "|R3793DQNKX2INH|          5|            0|          0|   N|\n",
            "|R1IFTWQW79OCWE|          5|            0|          0|   N|\n",
            "|R11K7B8ZVWT5J2|          5|            0|          0|   N|\n",
            "|R1LE118TIRBPKA|          5|            0|          1|   N|\n",
            "| RB9GZU9BZNUEM|          5|            0|          0|   N|\n",
            "|R2RO1I6G4TOSYD|          4|            0|          1|   N|\n",
            "| RXRUAMUV19IY8|          1|            0|          0|   N|\n",
            "|R2F84MTDEMY5E3|          5|            0|          0|   N|\n",
            "|R18XB0G8PFU91B|          1|            3|          7|   N|\n",
            "|R3FVPRCTKXBJO0|          5|            0|          0|   N|\n",
            "| RYSQEKBAX53CI|          5|            0|          0|   N|\n",
            "| R8OABF65VLWD6|          4|            0|          0|   N|\n",
            "|R30Z2EOSZIOVWX|          5|            0|          0|   N|\n",
            "|R359X07WO7SPFJ|          4|            0|          0|   N|\n",
            "|R3GQO5P5ILYMIH|          3|            0|          0|   N|\n",
            "|R3GNFVC2S2QESO|          5|            0|          0|   N|\n",
            "+--------------+-----------+-------------+-----------+----+\n",
            "only showing top 20 rows\n",
            "\n"
          ],
          "name": "stdout"
        }
      ]
    },
    {
      "cell_type": "code",
      "metadata": {
        "id": "A-v7fKwOipRv",
        "colab_type": "code",
        "colab": {
          "base_uri": "https://localhost:8080/",
          "height": 34
        },
        "outputId": "d7c8cc68-c81a-45be-fbb9-fcd11fca372f"
      },
      "source": [
        "vine_n_df.count()"
      ],
      "execution_count": 12,
      "outputs": [
        {
          "output_type": "execute_result",
          "data": {
            "text/plain": [
              "1781706"
            ]
          },
          "metadata": {
            "tags": []
          },
          "execution_count": 12
        }
      ]
    },
    {
      "cell_type": "code",
      "metadata": {
        "id": "W5jpiOQvhs3D",
        "colab_type": "code",
        "colab": {
          "base_uri": "https://localhost:8080/",
          "height": 469
        },
        "outputId": "3d9bcd00-c61f-4600-d717-a811906188dc"
      },
      "source": [
        "vine_y_df = vine_df.filter(\"vine == 'Y'\")\n",
        "vine_y_df.show()"
      ],
      "execution_count": 13,
      "outputs": [
        {
          "output_type": "stream",
          "text": [
            "+--------------+-----------+-------------+-----------+----+\n",
            "|     review_id|star_rating|helpful_votes|total_votes|vine|\n",
            "+--------------+-----------+-------------+-----------+----+\n",
            "| RAD4HJ1EG99XQ|          4|            0|          0|   Y|\n",
            "|R3W1J35WMFNM2C|          4|            0|          1|   Y|\n",
            "| RB5HOQI8TDJPD|          5|            0|          0|   Y|\n",
            "|R2S07XZ49BDO52|          3|            1|          1|   Y|\n",
            "|R1N2RRFGYULQGE|          3|            0|          0|   Y|\n",
            "|R2UP7VTED8O425|          5|           35|         41|   Y|\n",
            "|R3MKG3F19WNP3A|          5|            1|          2|   Y|\n",
            "|R2PQXIDF55122E|          5|            5|          5|   Y|\n",
            "|R1KKGBKYOWBUQR|          5|            0|          0|   Y|\n",
            "|R1DUQVOIMKD6WA|          4|            0|          0|   Y|\n",
            "|R15MN3PIQCZL17|          5|            0|          1|   Y|\n",
            "| R3SSIC02YENUI|          4|            2|          4|   Y|\n",
            "|R3TQEZ196YGYYD|          3|            1|          1|   Y|\n",
            "|R34QT9Z4J8C9N4|          4|            2|          4|   Y|\n",
            "|R3HGHQNI6BJNKF|          4|            0|          0|   Y|\n",
            "|R1K4SYEP3OQYJI|          4|            0|          0|   Y|\n",
            "|R1820SXCFLF4GS|          5|           12|         15|   Y|\n",
            "| RA41VLLXV8JJV|          5|            0|          0|   Y|\n",
            "| RTFIJ6TAGB2GV|          4|            2|          3|   Y|\n",
            "|R2F8L8IANI8TPD|          5|            2|          2|   Y|\n",
            "+--------------+-----------+-------------+-----------+----+\n",
            "only showing top 20 rows\n",
            "\n"
          ],
          "name": "stdout"
        }
      ]
    },
    {
      "cell_type": "code",
      "metadata": {
        "id": "ICU-NqaBiv0g",
        "colab_type": "code",
        "colab": {
          "base_uri": "https://localhost:8080/",
          "height": 34
        },
        "outputId": "44c1d106-bb19-4772-db8d-0cc4f8c66667"
      },
      "source": [
        "vine_y_df.count()"
      ],
      "execution_count": 14,
      "outputs": [
        {
          "output_type": "execute_result",
          "data": {
            "text/plain": [
              "4291"
            ]
          },
          "metadata": {
            "tags": []
          },
          "execution_count": 14
        }
      ]
    },
    {
      "cell_type": "code",
      "metadata": {
        "id": "Ard7kfhXjCJI",
        "colab_type": "code",
        "colab": {
          "base_uri": "https://localhost:8080/",
          "height": 191
        },
        "outputId": "37ec4341-ba3b-41b7-8211-7765ce1810fc"
      },
      "source": [
        "vine_n_df.describe().show()"
      ],
      "execution_count": 15,
      "outputs": [
        {
          "output_type": "stream",
          "text": [
            "+-------+--------------+------------------+------------------+------------------+-------+\n",
            "|summary|     review_id|       star_rating|     helpful_votes|       total_votes|   vine|\n",
            "+-------+--------------+------------------+------------------+------------------+-------+\n",
            "|  count|       1781706|           1781706|           1781706|           1781706|1781706|\n",
            "|   mean|          null| 4.059856676690767| 2.259134784302236| 3.758523011091617|   null|\n",
            "| stddev|          null|1.3566952586970187|19.184429354337407|22.471248446467538|   null|\n",
            "|    min|R10003I619LWL0|                 1|                 0|                 0|      N|\n",
            "|    max| RZZZYCP48D6MH|                 5|             10498|             10780|      N|\n",
            "+-------+--------------+------------------+------------------+------------------+-------+\n",
            "\n"
          ],
          "name": "stdout"
        }
      ]
    },
    {
      "cell_type": "code",
      "metadata": {
        "id": "ITqny3_YjE6F",
        "colab_type": "code",
        "colab": {
          "base_uri": "https://localhost:8080/",
          "height": 191
        },
        "outputId": "a0ecd597-4c8b-4b81-9ded-9b482d4df87b"
      },
      "source": [
        "vine_y_df.describe().show()"
      ],
      "execution_count": 16,
      "outputs": [
        {
          "output_type": "stream",
          "text": [
            "+-------+--------------+------------------+-----------------+------------------+----+\n",
            "|summary|     review_id|       star_rating|    helpful_votes|       total_votes|vine|\n",
            "+-------+--------------+------------------+-----------------+------------------+----+\n",
            "|  count|          4291|              4291|             4291|              4291|4291|\n",
            "|   mean|          null| 4.074807737124213|2.348403635516197|3.2780237706828244|null|\n",
            "| stddev|          null|0.9182159041910329|12.57900104398383| 13.76837460669889|null|\n",
            "|    min|R10079FVQQF194|                 1|                0|                 0|   Y|\n",
            "|    max| RZXZZ98IW0F2G|                 5|              347|               362|   Y|\n",
            "+-------+--------------+------------------+-----------------+------------------+----+\n",
            "\n"
          ],
          "name": "stdout"
        }
      ]
    },
    {
      "cell_type": "code",
      "metadata": {
        "id": "9mh65BVIjHHJ",
        "colab_type": "code",
        "colab": {
          "base_uri": "https://localhost:8080/",
          "height": 191
        },
        "outputId": "e9b4e355-9a31-46d0-a6ce-1903252faa25"
      },
      "source": [
        "vine_df.describe().show()"
      ],
      "execution_count": 17,
      "outputs": [
        {
          "output_type": "stream",
          "text": [
            "+-------+--------------+------------------+------------------+-----------------+-------+\n",
            "|summary|     review_id|       star_rating|     helpful_votes|      total_votes|   vine|\n",
            "+-------+--------------+------------------+------------------+-----------------+-------+\n",
            "|  count|       1785997|           1785997|           1785997|          1785997|1785997|\n",
            "|   mean|          null| 4.059892597803915|2.2593492598251843|3.757368573407458|   null|\n",
            "| stddev|          null|1.3558117532896885|19.171285092306746|22.45439170150905|   null|\n",
            "|    min|R10003I619LWL0|                 1|                 0|                0|      N|\n",
            "|    max| RZZZYCP48D6MH|                 5|             10498|            10780|      Y|\n",
            "+-------+--------------+------------------+------------------+-----------------+-------+\n",
            "\n"
          ],
          "name": "stdout"
        }
      ]
    },
    {
      "cell_type": "code",
      "metadata": {
        "id": "G7VSrCOpkf1a",
        "colab_type": "code",
        "colab": {
          "base_uri": "https://localhost:8080/",
          "height": 34
        },
        "outputId": "351bac06-8da8-4904-8419-5a12fe27f698"
      },
      "source": [
        "vine_y_5_df = vine_y_df.filter(\"star_rating == 5\")\n",
        "vine_y_5_df.count()"
      ],
      "execution_count": 19,
      "outputs": [
        {
          "output_type": "execute_result",
          "data": {
            "text/plain": [
              "1607"
            ]
          },
          "metadata": {
            "tags": []
          },
          "execution_count": 19
        }
      ]
    },
    {
      "cell_type": "code",
      "metadata": {
        "id": "29f5WgNfkqdz",
        "colab_type": "code",
        "colab": {
          "base_uri": "https://localhost:8080/",
          "height": 34
        },
        "outputId": "88efc316-23f8-47a8-af7e-31fec32296e4"
      },
      "source": [
        "vine_n_5_df = vine_n_df.filter(\"star_rating == 5\")\n",
        "vine_n_5_df.count()"
      ],
      "execution_count": 20,
      "outputs": [
        {
          "output_type": "execute_result",
          "data": {
            "text/plain": [
              "1025317"
            ]
          },
          "metadata": {
            "tags": []
          },
          "execution_count": 20
        }
      ]
    },
    {
      "cell_type": "code",
      "metadata": {
        "id": "H6JFvJFhlWQO",
        "colab_type": "code",
        "colab": {
          "base_uri": "https://localhost:8080/",
          "height": 34
        },
        "outputId": "02149125-c63a-4881-c987-9f25d55e2c1e"
      },
      "source": [
        "vine_y_1_df = vine_y_df.filter(\"star_rating == 1\")\n",
        "vine_y_1_df.count()"
      ],
      "execution_count": 21,
      "outputs": [
        {
          "output_type": "execute_result",
          "data": {
            "text/plain": [
              "60"
            ]
          },
          "metadata": {
            "tags": []
          },
          "execution_count": 21
        }
      ]
    },
    {
      "cell_type": "code",
      "metadata": {
        "id": "5w4yw50FlWwa",
        "colab_type": "code",
        "colab": {
          "base_uri": "https://localhost:8080/",
          "height": 34
        },
        "outputId": "36df0c41-9e51-4873-d8c2-202367cf575b"
      },
      "source": [
        "vine_n_1_df = vine_n_df.filter(\"star_rating == 1\")\n",
        "vine_n_1_df.count()"
      ],
      "execution_count": 23,
      "outputs": [
        {
          "output_type": "execute_result",
          "data": {
            "text/plain": [
              "192106"
            ]
          },
          "metadata": {
            "tags": []
          },
          "execution_count": 23
        }
      ]
    },
    {
      "cell_type": "code",
      "metadata": {
        "id": "KVtZYtg7qxqs",
        "colab_type": "code",
        "colab": {}
      },
      "source": [
        "vine_n_helpful_df = vine_n_df.filter(\"helpful_votes > 0\")"
      ],
      "execution_count": 26,
      "outputs": []
    },
    {
      "cell_type": "code",
      "metadata": {
        "id": "AXFY6Nz0q8EI",
        "colab_type": "code",
        "colab": {
          "base_uri": "https://localhost:8080/",
          "height": 191
        },
        "outputId": "cc4acb64-f681-4bc0-9670-b51235a3b67c"
      },
      "source": [
        "vine_n_helpful_df.describe().show()"
      ],
      "execution_count": 28,
      "outputs": [
        {
          "output_type": "stream",
          "text": [
            "+-------+--------------+------------------+------------------+-----------------+------+\n",
            "|summary|     review_id|       star_rating|     helpful_votes|      total_votes|  vine|\n",
            "+-------+--------------+------------------+------------------+-----------------+------+\n",
            "|  count|        696349|            696349|            696349|           696349|696349|\n",
            "|   mean|          null|3.7061889943117605|  5.78031130941525|8.983515449867811|  null|\n",
            "| stddev|          null|1.5306482988982926|30.353499142038686|35.25088761918903|  null|\n",
            "|    min|R10003I619LWL0|                 1|                 1|                1|     N|\n",
            "|    max| RZZZYCP48D6MH|                 5|             10498|            10780|     N|\n",
            "+-------+--------------+------------------+------------------+-----------------+------+\n",
            "\n"
          ],
          "name": "stdout"
        }
      ]
    },
    {
      "cell_type": "code",
      "metadata": {
        "id": "sjSTXxKQrLQ8",
        "colab_type": "code",
        "colab": {}
      },
      "source": [
        "vine_y_helpful_df = vine_y_df.filter(\"helpful_votes > 0\")"
      ],
      "execution_count": 29,
      "outputs": []
    },
    {
      "cell_type": "code",
      "metadata": {
        "id": "A-lrMjdvrLw2",
        "colab_type": "code",
        "colab": {
          "base_uri": "https://localhost:8080/",
          "height": 191
        },
        "outputId": "6f52655b-13c0-4484-8ff5-c088662f8d7f"
      },
      "source": [
        "vine_y_helpful_df.describe().show()"
      ],
      "execution_count": 30,
      "outputs": [
        {
          "output_type": "stream",
          "text": [
            "+-------+--------------+-----------------+------------------+------------------+----+\n",
            "|summary|     review_id|      star_rating|     helpful_votes|       total_votes|vine|\n",
            "+-------+--------------+-----------------+------------------+------------------+----+\n",
            "|  count|          1977|             1977|              1977|              1977|1977|\n",
            "|   mean|          null|4.071825998988366|  5.09711684370258| 6.620131512392514|null|\n",
            "| stddev|          null|0.961769389392433|18.152432521855886|19.717356546276168|null|\n",
            "|    min|R10079FVQQF194|                1|                 1|                 1|   Y|\n",
            "|    max| RZXZZ98IW0F2G|                5|               347|               362|   Y|\n",
            "+-------+--------------+-----------------+------------------+------------------+----+\n",
            "\n"
          ],
          "name": "stdout"
        }
      ]
    },
    {
      "cell_type": "code",
      "metadata": {
        "id": "YVokaqjts1sE",
        "colab_type": "code",
        "colab": {
          "base_uri": "https://localhost:8080/",
          "height": 34
        },
        "outputId": "e6dc4e1d-1e89-4209-8610-55e2b049bbdf"
      },
      "source": [
        "vine_y_helpful_5_df = vine_y_df.filter(\"helpful_votes > 0 and star_rating=5\")\n",
        "vine_y_helpful_5_df.count()"
      ],
      "execution_count": 31,
      "outputs": [
        {
          "output_type": "execute_result",
          "data": {
            "text/plain": [
              "780"
            ]
          },
          "metadata": {
            "tags": []
          },
          "execution_count": 31
        }
      ]
    },
    {
      "cell_type": "code",
      "metadata": {
        "id": "ZUOA-Ew3s_jZ",
        "colab_type": "code",
        "colab": {
          "base_uri": "https://localhost:8080/",
          "height": 34
        },
        "outputId": "22207dbe-8796-4c00-fcb6-4bb6a1c675c0"
      },
      "source": [
        "vine_n_helpful_5_df = vine_n_df.filter(\"helpful_votes > 0 and star_rating=5\")\n",
        "vine_n_helpful_5_df.count()"
      ],
      "execution_count": 32,
      "outputs": [
        {
          "output_type": "execute_result",
          "data": {
            "text/plain": [
              "329844"
            ]
          },
          "metadata": {
            "tags": []
          },
          "execution_count": 32
        }
      ]
    },
    {
      "cell_type": "code",
      "metadata": {
        "id": "eABqOKOxtGqv",
        "colab_type": "code",
        "colab": {
          "base_uri": "https://localhost:8080/",
          "height": 34
        },
        "outputId": "50995da2-6122-420b-d668-756c2120ae4e"
      },
      "source": [
        "vine_y_helpful_1_df = vine_y_df.filter(\"helpful_votes > 0 and star_rating=1\")\n",
        "vine_y_helpful_1_df.count()"
      ],
      "execution_count": 33,
      "outputs": [
        {
          "output_type": "execute_result",
          "data": {
            "text/plain": [
              "37"
            ]
          },
          "metadata": {
            "tags": []
          },
          "execution_count": 33
        }
      ]
    },
    {
      "cell_type": "code",
      "metadata": {
        "id": "UHPQanI7tGzX",
        "colab_type": "code",
        "colab": {
          "base_uri": "https://localhost:8080/",
          "height": 34
        },
        "outputId": "ce90fe21-f72b-4550-d1ec-1f7821b71824"
      },
      "source": [
        "vine_n_helpful_1_df = vine_n_df.filter(\"helpful_votes > 0 and star_rating=1\")\n",
        "vine_n_helpful_1_df.count()"
      ],
      "execution_count": 34,
      "outputs": [
        {
          "output_type": "execute_result",
          "data": {
            "text/plain": [
              "120568"
            ]
          },
          "metadata": {
            "tags": []
          },
          "execution_count": 34
        }
      ]
    },
    {
      "cell_type": "code",
      "metadata": {
        "id": "RswQcf2GlxNP",
        "colab_type": "code",
        "colab": {}
      },
      "source": [
        "#Analysis Section for Week 16 Challenge on Vine Table\n",
        "\"\"\"\n",
        "Since my task is to determine the validity of the data obtained in the vine_table, my job is to segment the data to test its trustworthiness.\n",
        "To do so I first read the entire vine_table dataset into the vine_df which yielded 1,785,997 results. Then I filtered the dataframe for vine == Y and vine == N, indicating\n",
        "the group of users that either do or do not pay for Vine. In this group there were 1,781,706 (99.76%) non paying users and 4,291 (.24%) paying users. \n",
        "\n",
        "Number of 5 star ratings given out:\n",
        "Paying Users: 1,607 total 5 star reviews representing (1,607/4,291) 37.45% of all reviews\n",
        "Non-Paying Users: 1,025,317 total 5 star reviews representing (1,025,317/1,781,706) 57.55% of all reviews\n",
        "\n",
        "Number of 1 star ratings given out:\n",
        "Paying Users: 60 total 1 star reviews representing (60/4,291) 1.4% of all reviews\n",
        "Non-Paying Users: 192,106 total 1 star reviews representing (192,106/1,781,706) 10.78% of all reviews\n",
        "\n",
        "Paying Users average \n",
        "|summary|     star_rating      |    helpful_votes |       total_votes |vine|\n",
        "+-------+--------------+------------------+-----------------+------------------+----+\n",
        "|   mean|     4.074807737124213|  2.348403635516197 | 3.2780237706828244  |null|\n",
        "\n",
        "Non-Paying Users average \n",
        "|summary|     star_rating      |    helpful_votes |       total_votes |vine|\n",
        "+-------+--------------+------------------+-----------------+------------------+----+\n",
        "|   mean|     4.059856676690767|  2.259134784302236 | 3.758523011091617  |null|\n",
        "\n",
        "In general it is not good practice to compare two datasets that are vastly different in size, with one dataset accounting for just .24% of the dataset. Though even the smaller set\n",
        "contains thousands of datapoints which may allow for statistically significant tests to be run. The law of large numbers will take into effect much more so on the dataset representing\n",
        "non paying users than it will with the paying users simply due to it having a vastly bigger dataset to work with.\n",
        "\n",
        "When splitting the dataset between paid and non-paid, the averages of the two sets appear to be very similiar:\n",
        "the average star rating given by a paying user was 4.07 vs 4.06, helpful votes 2.35 vs 2.26, and total votes 3.28 vs 3.76.\n",
        "\n",
        "The averages tell us that the two groups give about the same star rating, when viewed at the group level, paying users tend to be slightly more helpful in their votes,\n",
        "and non paying users actually tend to have more total_votes than do paid users. \n",
        "\n",
        "Looking at the distributions of 5 and 1 star reviews shows a different story.\n",
        "Paying users gave about 37.45% of their reviews as 5 star reviews and only 1.4% to one star reviews. Non paying users on the other hand had 57.55% of thei reviews at 5 stars and\n",
        "10.78% of all their reviews as one star. The trend seems to indicate that non paying users are more likely to give reviews on either end of the extreme than are paid users. The data\n",
        "also seems to indicate that paid users are much less likely to give a 1 star review than are non-paid users.\n",
        "\n",
        "Running a query (helpful_votes>0) to determine the number of helpful reviews per paid and non paid:\n",
        "\n",
        "Paying Users Helpful Votes: 1,977/4,291 = 46.01%\n",
        "Non Paying Users Helpful Votes: 696,349/1,025,317 = 67.92%\n",
        "\n",
        "From looking at just the dataset with helpful reviews, \n",
        "Non Paying Average review score - 3.70\n",
        "Paying Average review score - 4.07\n",
        "\n",
        "The helpful reviews had a lower score for Non Paying customers than that of the entire dataset (3.70 vs 4.06).\n",
        "There was negligible different for Paying customers (4.07 vs 4.07)\n",
        "\n",
        "When looking at the helpful reviews for both customer types for 5 and 1 star reviews:\n",
        "1 Star Reviews\n",
        "Non Paying 5 star, helpful review - 120,568 / 696,349 = 17.31%\n",
        "Paying 5 star, helpful review - 37/ 1,977 = 1.87%\n",
        "\n",
        "5 Star Reviews\n",
        "Non Paying 5 star, helpful review - 329,844 / 696,349 = 47.37%\n",
        "Paying 5 star, helpful review - 780 / 1,977 = 39.45%\n",
        "\n",
        "Taking the helpful value as an indication that the community found that review to be helpful to qualify that review to be more credible, I ran a few tests on those subsets.\n",
        "For both 1 and 5 star reviews by non paying customers, the percentage in each were higher than for paying customers. This data seems to imply that \n",
        "non paying customers are providing a higher percentage of helpful reviews at the extremes of the rating scale than are paying customers. \n",
        "\n",
        "Overall the data trends from both paying and non paying customers seem to be relatively balanced and are not sending any major red flags to cause me to conclude that customers\n",
        "who pay are bias compared with those that don't. If anything the data seems to indicate that non-paying customers are more likely to give reviews of 1 and 5 stars than are paying customers\n",
        "and also non paying customers were found to have a higher average helpful score of their reviews. Additionally we saw the non paying group to have larger standard deviations with their datasets compared with that of paying customers.\n",
        "\n",
        "I would recommend that additional data analysis be performed to see if any further trends can be observed when taking into account additional data points like the product type if any bias can be established.\n",
        "\n",
        "\"\"\"\n"
      ],
      "execution_count": null,
      "outputs": []
    }
  ]
}